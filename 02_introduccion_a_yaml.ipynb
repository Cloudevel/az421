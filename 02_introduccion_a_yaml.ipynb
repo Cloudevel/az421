{
 "cells": [
  {
   "cell_type": "markdown",
   "metadata": {},
   "source": [
    "# Introducción a  *YAML*.\n",
    "\n",
    "[YAML](https://yaml.org/) es el acrónimo de \"*Yet Another Markup Language*\". Es un lenguaje derivado de *JSON* que fue utilizado originalmente para la serialización de datos, actualmente tambi;en se utiliza como la base de lenguajes de dominio específico, generalmente declarativos. Los archivos de *YAML* tiene la extensión ```.yml``` o ```.yaml```.  \n",
    "\n",
    "*YAML*, al igual que *JSON* es utilizado para la serialización de estructuras de datos. Los documentos utilizando el formato de *YAML* tiene la ventaja de que que pueden ser procesados eficientemente por sistemas de cómputo y al mismo tiempo son muy legibles para los seres humanos.\n",
    "\n",
    "Algunas herramientas que consumen documentos en formato *YAML* son entre otros:\n",
    "\n",
    "* [Los archivos *compose*](https://docs.docker.com/compose/compose-file/) de *Docker Compose*.\n",
    "* [Los *Playbooks*](https://docs.ansible.com/ansible/latest/user_guide/playbooks_intro.html)  de *Ansible*.\n",
    "* Las definiciones de *Kubernetes*.\n",
    "* Los *workflows* de *GitHub Actions*.\n",
    "* Los *pipelines* de *Azure Pipelines*.\n",
    "\n",
    "Para mayor referencia es posible consultar la siguiente liga:\n",
    "\n",
    "(https://docs.ansible.com/ansible/latest/reference_appendices/YAMLSyntax.html).\n",
    "\n"
   ]
  },
  {
   "cell_type": "markdown",
   "metadata": {},
   "source": [
    "# Tipo de datos.\n",
    "\n",
    "Todos los valores definidos en un documento en formato *YAML* son considerados como cadenas de caracteres. El sistema que consuma los archivos *YAML* es el encargado de inferir el tipo de dato del que se trata. "
   ]
  },
  {
   "cell_type": "markdown",
   "metadata": {},
   "source": [
    "## Sintaxis de *YAML*.\n",
    "\n",
    "El componente básico de una estructura de datos en *YAML* son:\n",
    "\n",
    "* Mapas.\n",
    "* Listas.\n",
    "\n",
    "A diferencia de *JSON* no se uitilizan las llaves ```{``` ```}``` para delimitar un bloque de datos, sino que de forma similar a *Python*, se utiliza la indentación.\n",
    "\n",
    "**NOTA:** *YAML* no acepta el uso de tabuladores para la indentación. Sólo se aceptan espacios."
   ]
  },
  {
   "cell_type": "markdown",
   "metadata": {},
   "source": [
    "## Mapas.\n",
    "\n",
    "Los mapas son pares ```<clave>: <valor>```, donde el valor puede ser:\n",
    "* Una cadena de caracteres.\n",
    "* Un mapa.\n",
    "* Una lista."
   ]
  },
  {
   "cell_type": "markdown",
   "metadata": {},
   "source": [
    "**Ejemplos:**\n",
    "\n",
    "El siguiente texto contiene a los siguientes pares:\n",
    "\n",
    "* La clave correspondiente a ```nombre``` y el valor correspondiente a ```Juan```.\n",
    "* La clave correspondiente a ```ruta``` y el valor correspondiente a ```\"/valr/lib/docker\"```.\n",
    "\n",
    "```yaml\n",
    "nombre: Juan\n",
    "ruta: \"/var/lib/docker\"\n",
    "```"
   ]
  },
  {
   "cell_type": "markdown",
   "metadata": {},
   "source": [
    "### Mapas anidados.\n",
    "\n",
    "Los mapas pueden contener a su vez otras estrcuturas de mapas. Para indicar que un mapa pertenece a otro se utiliza la indentación.\n",
    "\n",
    "```\n",
    "<clave 1> :\n",
    "    <clave 11>: <valor 11>\n",
    "    <clave 12>: <valor 12>\n",
    "    ...\n",
    "    ...\n",
    "    <clave 1n>: <valor 1n>\n",
    "    \n",
    "```"
   ]
  },
  {
   "cell_type": "markdown",
   "metadata": {},
   "source": [
    "**Ejemplo:**\n",
    "\n",
    "El siguiente texto define al mapa con clave ```persona```, el cual contiene a los mapas con claves:\n",
    "\n",
    "* ```id```.\n",
    "* ```nombre```.\n",
    "* ```primer_apellido```.\n",
    "* ```segundo_apellido```.\n",
    "* ```carrera```.\n",
    "\n",
    "\n",
    "``` yaml\n",
    "persona:\n",
    "    id: 1001\n",
    "    nombre: Juan\n",
    "    primer_apellido: Pérez\n",
    "    segundo_apellido: de la Rosa\n",
    "    carrera: Derecho\n",
    "```"
   ]
  },
  {
   "cell_type": "markdown",
   "metadata": {},
   "source": [
    "## Listas.\n",
    "\n",
    "las listas se definen mediante columnas en las que cada elemento de dicha lista es precedido por un guión medio ```-```.\n",
    "\n",
    "```\n",
    "- <elemento 1>\n",
    "- <elemento 2>\n",
    "...\n",
    "...\n",
    "- <elemento n>\n",
    "```\n",
    "Estos elementos pueden ser cadenas de caracteres, mapas u otras listas."
   ]
  },
  {
   "cell_type": "markdown",
   "metadata": {},
   "source": [
    "**Ejemplo:**\n",
    "\n",
    "El siguiente texto define una estructura que incluye mapas y listas anidadas dentro de una lista.\n",
    "\n",
    "``` yaml\n",
    "cursos:\n",
    " - py101: AC\n",
    " - py111: AC\n",
    " - py121: NA\n",
    " - py131:\n",
    "  programado:\n",
    "   clave_evento: py131-2007\n",
    "   fecha_inicio: 15/07/2023\n",
    "   requisitos:\n",
    "    - py101\n",
    "    - py111\n",
    " - py201: NA\n",
    "```"
   ]
  },
  {
   "cell_type": "markdown",
   "metadata": {},
   "source": [
    "## Serialización con *YAML* con *Python*."
   ]
  },
  {
   "cell_type": "markdown",
   "metadata": {},
   "source": [
    "De forma similar a *JSON*, *YAML* permite serializar estructuras de datos complejas.\n",
    "\n",
    "Para ilustrar la serialización, se utilizará la biblioteca ```pyyaml```."
   ]
  },
  {
   "cell_type": "code",
   "execution_count": 1,
   "metadata": {},
   "outputs": [
    {
     "name": "stdout",
     "output_type": "stream",
     "text": [
      "Defaulting to user installation because normal site-packages is not writeable\n",
      "Requirement already satisfied: pyyaml in /usr/lib/python3/dist-packages (5.4.1)\n",
      "--- Logging error ---\n",
      "Traceback (most recent call last):\n",
      "  File \"/usr/local/lib/python3.10/dist-packages/pip/_internal/utils/logging.py\", line 177, in emit\n",
      "    self.console.print(renderable, overflow=\"ignore\", crop=False, style=style)\n",
      "  File \"/usr/local/lib/python3.10/dist-packages/pip/_vendor/rich/console.py\", line 1752, in print\n",
      "    extend(render(renderable, render_options))\n",
      "  File \"/usr/local/lib/python3.10/dist-packages/pip/_vendor/rich/console.py\", line 1390, in render\n",
      "    for render_output in iter_render:\n",
      "  File \"/usr/local/lib/python3.10/dist-packages/pip/_internal/utils/logging.py\", line 134, in __rich_console__\n",
      "    for line in lines:\n",
      "  File \"/usr/local/lib/python3.10/dist-packages/pip/_vendor/rich/segment.py\", line 245, in split_lines\n",
      "    for segment in segments:\n",
      "  File \"/usr/local/lib/python3.10/dist-packages/pip/_vendor/rich/console.py\", line 1368, in render\n",
      "    renderable = rich_cast(renderable)\n",
      "  File \"/usr/local/lib/python3.10/dist-packages/pip/_vendor/rich/protocol.py\", line 36, in rich_cast\n",
      "    renderable = cast_method()\n",
      "  File \"/usr/local/lib/python3.10/dist-packages/pip/_internal/self_outdated_check.py\", line 130, in __rich__\n",
      "    pip_cmd = get_best_invocation_for_this_pip()\n",
      "  File \"/usr/local/lib/python3.10/dist-packages/pip/_internal/utils/entrypoints.py\", line 58, in get_best_invocation_for_this_pip\n",
      "    if found_executable and os.path.samefile(\n",
      "  File \"/usr/lib/python3.10/genericpath.py\", line 101, in samefile\n",
      "    s2 = os.stat(f2)\n",
      "FileNotFoundError: [Errno 2] No existe el archivo o el directorio: '/usr/bin/pip'\n",
      "Call stack:\n",
      "  File \"/usr/lib/python3.10/runpy.py\", line 196, in _run_module_as_main\n",
      "    return _run_code(code, main_globals, None,\n",
      "  File \"/usr/lib/python3.10/runpy.py\", line 86, in _run_code\n",
      "    exec(code, run_globals)\n",
      "  File \"/usr/local/lib/python3.10/dist-packages/pip/__main__.py\", line 31, in <module>\n",
      "    sys.exit(_main())\n",
      "  File \"/usr/local/lib/python3.10/dist-packages/pip/_internal/cli/main.py\", line 70, in main\n",
      "    return command.main(cmd_args)\n",
      "  File \"/usr/local/lib/python3.10/dist-packages/pip/_internal/cli/base_command.py\", line 101, in main\n",
      "    return self._main(args)\n",
      "  File \"/usr/local/lib/python3.10/dist-packages/pip/_internal/cli/base_command.py\", line 223, in _main\n",
      "    self.handle_pip_version_check(options)\n",
      "  File \"/usr/local/lib/python3.10/dist-packages/pip/_internal/cli/req_command.py\", line 148, in handle_pip_version_check\n",
      "    pip_self_version_check(session, options)\n",
      "  File \"/usr/local/lib/python3.10/dist-packages/pip/_internal/self_outdated_check.py\", line 237, in pip_self_version_check\n",
      "    logger.info(\"[present-rich] %s\", upgrade_prompt)\n",
      "  File \"/usr/lib/python3.10/logging/__init__.py\", line 1477, in info\n",
      "    self._log(INFO, msg, args, **kwargs)\n",
      "  File \"/usr/lib/python3.10/logging/__init__.py\", line 1624, in _log\n",
      "    self.handle(record)\n",
      "  File \"/usr/lib/python3.10/logging/__init__.py\", line 1634, in handle\n",
      "    self.callHandlers(record)\n",
      "  File \"/usr/lib/python3.10/logging/__init__.py\", line 1696, in callHandlers\n",
      "    hdlr.handle(record)\n",
      "  File \"/usr/lib/python3.10/logging/__init__.py\", line 968, in handle\n",
      "    self.emit(record)\n",
      "  File \"/usr/local/lib/python3.10/dist-packages/pip/_internal/utils/logging.py\", line 179, in emit\n",
      "    self.handleError(record)\n",
      "Message: '[present-rich] %s'\n",
      "Arguments: (UpgradePrompt(old='22.1.2', new='23.3.1'),)\n",
      "Note: you may need to restart the kernel to use updated packages.\n"
     ]
    }
   ],
   "source": [
    "pip install pyyaml"
   ]
  },
  {
   "cell_type": "code",
   "execution_count": 2,
   "metadata": {},
   "outputs": [],
   "source": [
    "import yaml"
   ]
  },
  {
   "cell_type": "markdown",
   "metadata": {},
   "source": [
    "* La siguiente celda creará un objeto de tipo ```dict``` de *Python* llamado ```listado```, el cual contiene una estructura de datos compleja."
   ]
  },
  {
   "cell_type": "code",
   "execution_count": 3,
   "metadata": {},
   "outputs": [],
   "source": [
    "listado = {'personas': [\n",
    "    {\"id\": 1001,\n",
    "    'nombre': 'Juan',\n",
    "    'primer_apellido': 'Pérez',\n",
    "    'segundo_apellido': 'de la Rosa',\n",
    "    'carrera': 'Derecho',\n",
    "    'cursos': {\n",
    "        'py101': 'AC',\n",
    "        'py111': 'AC',\n",
    "        'py121': 'NA',\n",
    "        'py131': {\n",
    "            'PN': {\n",
    "                'clave_evento': 'py131-2007',\n",
    "                'fecha_inicio': '15/07/2020',\n",
    "                'requisitos': [\n",
    "                    'py101', \n",
    "                    'py111']}},\n",
    "        'py201': 'NA'}},\n",
    "    {\"id\": 1002,\n",
    "     'nombre': 'María',\n",
    "     'primer_apellido': 'Mendoza',\n",
    "     'segundo_apellido': '',\n",
    "     'carrera': 'Derecho',\n",
    "     'cursos': {\n",
    "         'py101': 'AC', \n",
    "         'py111': 'AC', \n",
    "         'py121': 'AC'}}]}"
   ]
  },
  {
   "cell_type": "markdown",
   "metadata": {},
   "source": [
    "* Los objetos ```dict``` de *Python* permiten realizar indexación por claves, por lo que la siguiente celda traerá el objeto con índice ```personas``` del objeto ```listado```. En este caso, es un objeto de tipo ```list```. "
   ]
  },
  {
   "cell_type": "code",
   "execution_count": 4,
   "metadata": {
    "scrolled": true
   },
   "outputs": [
    {
     "data": {
      "text/plain": [
       "[{'id': 1001,\n",
       "  'nombre': 'Juan',\n",
       "  'primer_apellido': 'Pérez',\n",
       "  'segundo_apellido': 'de la Rosa',\n",
       "  'carrera': 'Derecho',\n",
       "  'cursos': {'py101': 'AC',\n",
       "   'py111': 'AC',\n",
       "   'py121': 'NA',\n",
       "   'py131': {'PN': {'clave_evento': 'py131-2007',\n",
       "     'fecha_inicio': '15/07/2020',\n",
       "     'requisitos': ['py101', 'py111']}},\n",
       "   'py201': 'NA'}},\n",
       " {'id': 1002,\n",
       "  'nombre': 'María',\n",
       "  'primer_apellido': 'Mendoza',\n",
       "  'segundo_apellido': '',\n",
       "  'carrera': 'Derecho',\n",
       "  'cursos': {'py101': 'AC', 'py111': 'AC', 'py121': 'AC'}}]"
      ]
     },
     "execution_count": 4,
     "metadata": {},
     "output_type": "execute_result"
    }
   ],
   "source": [
    "listado['personas']"
   ]
  },
  {
   "cell_type": "markdown",
   "metadata": {},
   "source": [
    "* La siguiente celda traerá el primer elemento del objeto ```listado['personas']```."
   ]
  },
  {
   "cell_type": "code",
   "execution_count": 5,
   "metadata": {
    "scrolled": true
   },
   "outputs": [
    {
     "data": {
      "text/plain": [
       "{'id': 1001,\n",
       " 'nombre': 'Juan',\n",
       " 'primer_apellido': 'Pérez',\n",
       " 'segundo_apellido': 'de la Rosa',\n",
       " 'carrera': 'Derecho',\n",
       " 'cursos': {'py101': 'AC',\n",
       "  'py111': 'AC',\n",
       "  'py121': 'NA',\n",
       "  'py131': {'PN': {'clave_evento': 'py131-2007',\n",
       "    'fecha_inicio': '15/07/2020',\n",
       "    'requisitos': ['py101', 'py111']}},\n",
       "  'py201': 'NA'}}"
      ]
     },
     "execution_count": 5,
     "metadata": {},
     "output_type": "execute_result"
    }
   ],
   "source": [
    "listado['personas'][0]"
   ]
  },
  {
   "cell_type": "code",
   "execution_count": 6,
   "metadata": {},
   "outputs": [
    {
     "data": {
      "text/plain": [
       "{'py101': 'AC',\n",
       " 'py111': 'AC',\n",
       " 'py121': 'NA',\n",
       " 'py131': {'PN': {'clave_evento': 'py131-2007',\n",
       "   'fecha_inicio': '15/07/2020',\n",
       "   'requisitos': ['py101', 'py111']}},\n",
       " 'py201': 'NA'}"
      ]
     },
     "execution_count": 6,
     "metadata": {},
     "output_type": "execute_result"
    }
   ],
   "source": [
    "listado[\"personas\"][0][\"cursos\"]"
   ]
  },
  {
   "cell_type": "code",
   "execution_count": 7,
   "metadata": {},
   "outputs": [
    {
     "data": {
      "text/plain": [
       "{'PN': {'clave_evento': 'py131-2007',\n",
       "  'fecha_inicio': '15/07/2020',\n",
       "  'requisitos': ['py101', 'py111']}}"
      ]
     },
     "execution_count": 7,
     "metadata": {},
     "output_type": "execute_result"
    }
   ],
   "source": [
    "listado[\"personas\"][0][\"cursos\"][\"py131\"]"
   ]
  },
  {
   "cell_type": "markdown",
   "metadata": {},
   "source": [
    "* La función ```yaml.dump()``` permite serializar un objeto de *Python* en formato *YAML*. El resultado es uan representación en binario del objeto."
   ]
  },
  {
   "cell_type": "code",
   "execution_count": 8,
   "metadata": {},
   "outputs": [
    {
     "data": {
      "text/plain": [
       "b'personas:\\n- carrera: Derecho\\n  cursos:\\n    py101: AC\\n    py111: AC\\n    py121: NA\\n    py131:\\n      PN:\\n        clave_evento: py131-2007\\n        fecha_inicio: 15/07/2020\\n        requisitos:\\n        - py101\\n        - py111\\n    py201: NA\\n  id: 1001\\n  nombre: Juan\\n  primer_apellido: \"P\\\\xE9rez\"\\n  segundo_apellido: de la Rosa\\n- carrera: Derecho\\n  cursos:\\n    py101: AC\\n    py111: AC\\n    py121: AC\\n  id: 1002\\n  nombre: \"Mar\\\\xEDa\"\\n  primer_apellido: Mendoza\\n  segundo_apellido: \\'\\'\\n'"
      ]
     },
     "execution_count": 8,
     "metadata": {},
     "output_type": "execute_result"
    }
   ],
   "source": [
    "yaml.dump(listado, encoding=\"utf-8\")"
   ]
  },
  {
   "cell_type": "markdown",
   "metadata": {},
   "source": [
    "* La siguient celda le asignará el nombre ```estructura``` al  objeto ```bytes``` que contiene la serialización del objeto ```listado``` en formato *YAML*."
   ]
  },
  {
   "cell_type": "code",
   "execution_count": null,
   "metadata": {},
   "outputs": [],
   "source": [
    "estructura = yaml.dump(listado, encoding=\"utf-8\")"
   ]
  },
  {
   "cell_type": "markdown",
   "metadata": {},
   "source": [
    "* La función ```yaml.dump()``` también permite escribir en archivos el contenido serializado."
   ]
  },
  {
   "cell_type": "code",
   "execution_count": null,
   "metadata": {},
   "outputs": [],
   "source": [
    "with open(\"archivo.yaml\", \"w\") as f:\n",
    "    yaml.dump(listado, f)"
   ]
  },
  {
   "cell_type": "markdown",
   "metadata": {},
   "source": [
    "* El siguiente es el contenido del archivo ```archivo.yaml```."
   ]
  },
  {
   "cell_type": "code",
   "execution_count": null,
   "metadata": {
    "scrolled": true
   },
   "outputs": [],
   "source": [
    "!cat archivo.yaml "
   ]
  },
  {
   "cell_type": "markdown",
   "metadata": {},
   "source": [
    "* La función ```yaml.load()``` permite construir un objeto nuevo de *Python* a partir de una cadena de caracteres en formato *YAML*."
   ]
  },
  {
   "cell_type": "code",
   "execution_count": null,
   "metadata": {},
   "outputs": [],
   "source": [
    "otro_listado = yaml.load(estructura, yaml.Loader)"
   ]
  },
  {
   "cell_type": "code",
   "execution_count": null,
   "metadata": {},
   "outputs": [],
   "source": [
    "otro_listado"
   ]
  },
  {
   "cell_type": "code",
   "execution_count": null,
   "metadata": {},
   "outputs": [],
   "source": [
    "listado == otro_listado"
   ]
  },
  {
   "cell_type": "code",
   "execution_count": null,
   "metadata": {},
   "outputs": [],
   "source": [
    "listado is otro_listado"
   ]
  },
  {
   "cell_type": "markdown",
   "metadata": {},
   "source": [
    "<p style=\"text-align: center\"><a rel=\"license\" href=\"http://creativecommons.org/licenses/by/4.0/\"><img alt=\"Licencia Creative Commons\" style=\"border-width:0\" src=\"https://i.creativecommons.org/l/by/4.0/80x15.png\" /></a><br />Esta obra está bajo una <a rel=\"license\" href=\"http://creativecommons.org/licenses/by/4.0/\">Licencia Creative Commons Atribución 4.0 Internacional</a>.</p>\n",
    "<p style=\"text-align: center\">&copy; José Luis Chiquete Valdivieso. 2023.</p>"
   ]
  }
 ],
 "metadata": {
  "kernelspec": {
   "display_name": "Python 3",
   "language": "python",
   "name": "python3"
  },
  "language_info": {
   "codemirror_mode": {
    "name": "ipython",
    "version": 3
   },
   "file_extension": ".py",
   "mimetype": "text/x-python",
   "name": "python",
   "nbconvert_exporter": "python",
   "pygments_lexer": "ipython3",
   "version": "3.10.12"
  }
 },
 "nbformat": 4,
 "nbformat_minor": 4
}
